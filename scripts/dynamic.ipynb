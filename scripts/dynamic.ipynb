{
 "cells": [
  {
   "cell_type": "code",
   "execution_count": null,
   "metadata": {},
   "outputs": [],
   "source": [
    "import cv2\n",
    "from PIL import Image\n",
    "import matplotlib.pyplot as plt\n",
    "import numpy as np\n",
    "img = cv2.imread(\"/root/TAC/data/rgbd_data/pretrain_val/scannet_val/scene0430_01/rgb/77.jpg\")\n",
    "img = cv2.cvtColor(img, cv2.COLOR_BGR2RGB)\n",
    "img_origin = img.copy()\n",
    "plt.imshow(img)\n",
    "plt.axis(False)\n",
    "plt.grid(False)\n",
    "plt.savefig(\"origin.png\",bbox_inches=\"tight\",pad_inches=0)"
   ]
  },
  {
   "cell_type": "code",
   "execution_count": null,
   "metadata": {},
   "outputs": [],
   "source": [
    "kernel_size = 7\n",
    "  \n",
    "# Create the vertical kernel.\n",
    "kernel_v = np.zeros((kernel_size, kernel_size))\n",
    "  \n",
    "# Create a copy of the same for creating the horizontal kernel.\n",
    "kernel_h = np.copy(kernel_v)\n",
    "  \n",
    "# Fill the middle row with ones.\n",
    "kernel_v[:, int((kernel_size - 1)/2)] = np.ones(kernel_size)\n",
    "kernel_h[int((kernel_size - 1)/2), :] = np.ones(kernel_size)\n",
    "  \n",
    "# Normalize.\n",
    "kernel_v /= kernel_size\n",
    "kernel_h /= kernel_size\n",
    "  \n",
    "# Apply the vertical kernel.\n",
    "horizonal_mb = cv2.filter2D(img, -1, kernel_h)\n",
    "\n",
    "plt.imshow(horizonal_mb)\n",
    "plt.axis(False)\n",
    "plt.grid(False)\n",
    "plt.savefig(\"motion_blur.png\",bbox_inches=\"tight\",pad_inches=0)"
   ]
  },
  {
   "cell_type": "code",
   "execution_count": null,
   "metadata": {},
   "outputs": [],
   "source": [
    "import random\n",
    "mask_size = 64\n",
    "mask = np.ones((224,224), dtype=np.uint8)\n",
    "posx = random.randint(0, 223-mask_size)\n",
    "posy = random.randint(0, 223-mask_size)\n",
    "img_mask = cv2.rectangle(img, (posx, posy), (posx+mask_size, posy+mask_size), 0, -1)\n",
    "plt.imshow(img_mask)\n",
    "plt.axis(False)\n",
    "plt.grid(False)\n",
    "plt.savefig(\"mask.png\",bbox_inches=\"tight\",pad_inches=0)"
   ]
  },
  {
   "cell_type": "code",
   "execution_count": null,
   "metadata": {},
   "outputs": [],
   "source": [
    "from glob import glob\n",
    "import natsort\n",
    "import os\n",
    "import shutil\n",
    "import cv2\n",
    "import random\n",
    "rgb_files = []\n",
    "for file in glob(\"/root/TAC/data/rgbd_data/pretrain_val/scannet_val_dynamic/*/*/*.jpg\"):\n",
    "    rgb_files.append(file)\n",
    "rgb_files = natsort.natsorted(rgb_files)\n",
    "depth_files = [v.replace(\".jpg\",\".png\").replace(\"/rgb/\",\"/depth/\") for v in rgb_files]\n",
    "for v in rgb_files:\n",
    "    assert os.path.isfile(v)\n",
    "for v in depth_files:\n",
    "    assert os.path.isfile(v)\n",
    "def dynamic_strengthen(rgb_path, depth_path):\n",
    "    mode = (random.random()>0.5)\n",
    "    img_rgb = cv2.imread(rgb_path)\n",
    "    img_depth = cv2.imread(depth_path, -1)\n",
    "    if mode: # blur\n",
    "        kernel_size = 7\n",
    "        # Create a copy of the same for creating the horizontal kernel.\n",
    "        kernel_h = np.copy(kernel_v)\n",
    "        kernel_h[int((kernel_size - 1)/2), :] = np.ones(kernel_size)\n",
    "        # Normalize.\n",
    "        kernel_h /= kernel_size\n",
    "        # Apply the vertical kernel.\n",
    "        img_rgb = cv2.filter2D(img_rgb, -1, kernel_h)\n",
    "        img_depth = cv2.filter2D(img_depth, -1, kernel_h)\n",
    "    else: # mask\n",
    "        mask_size = 64\n",
    "        posx = random.randint(0, 223-mask_size)\n",
    "        posy = random.randint(0, 223-mask_size)\n",
    "        img_rgb = cv2.rectangle(img_rgb, (posx, posy), (posx+mask_size, posy+mask_size), 0, -1)\n",
    "        img_depth = cv2.rectangle(img_depth, (posx, posy), (posx+mask_size, posy+mask_size), 0, -1)\n",
    "    cv2.imwrite(rgb_path, img_rgb)\n",
    "    cv2.imwrite(depth_path, img_depth)\n",
    "    return \n",
    "downsample_rgb_files = rgb_files[::5]\n",
    "downsample_depth_files = depth_files[::5]\n",
    "\n",
    "for rgb, depth in zip(downsample_rgb_files, downsample_depth_files):\n",
    "    new_rgb = rgb.replace(\"scannet_val_dynamic\",\"scannet_dynamic_val\")\n",
    "    os.makedirs(os.path.dirname(new_rgb), exist_ok=True)\n",
    "    shutil.copy(rgb, new_rgb)\n",
    "    \n",
    "    new_depth = depth.replace(\"scannet_val_dynamic\",\"scannet_dynamic_val\")\n",
    "    os.makedirs(os.path.dirname(new_depth), exist_ok=True)\n",
    "    shutil.copy(depth, new_depth)\n",
    "\n",
    "    dynamic_strengthen(new_rgb, new_depth)"
   ]
  },
  {
   "cell_type": "code",
   "execution_count": null,
   "metadata": {},
   "outputs": [],
   "source": [
    "from glob import glob\n",
    "train_episodes = []\n",
    "os.makedirs(\"/root/TAC/data/rgbd_data/pretrain_val/scannet_dynamic_train\",exist_ok=True)\n",
    "for folder in glob(\"/root/TAC/data/rgbd_data/pretrain_val/scannet_val_dynamic/*\"):\n",
    "    train_episodes.append(folder)\n",
    "train_episodes = train_episodes[::20]\n",
    "for folder in train_episodes:\n",
    "    shutil.copytree(folder, folder.replace(\"scannet_val_dynamic\",\"scannet_dynamic_train\"))\n",
    "rgb_files = []\n",
    "for file in glob(\"/root/TAC/data/rgbd_data/pretrain_val/scannet_dynamic_train/*/*/*.jpg\"):\n",
    "    rgb_files.append(file)\n",
    "rgb_files = natsort.natsorted(rgb_files)\n",
    "depth_files = [v.replace(\".jpg\",\".png\").replace(\"/rgb/\",\"/depth/\") for v in rgb_files]\n",
    "for rgb, depth in zip(rgb_files, depth_files):\n",
    "    if rgb in downsample_rgb_files: # avoid data leak\n",
    "        os.remove(rgb)\n",
    "        os.remove(depth)\n",
    "    else:\n",
    "        dynamic_strengthen(rgb, depth)"
   ]
  },
  {
   "cell_type": "code",
   "execution_count": null,
   "metadata": {},
   "outputs": [],
   "source": [
    "rgb_files = []\n",
    "for file in glob(\"/root/TAC/data/rgbd_data/pretrain_val/scannet_dynamic_train/*/*/*.jpg\"):\n",
    "    rgb_files.append(file)\n",
    "print(len(rgb_files))\n",
    "rgb_files = []\n",
    "for file in glob(\"/root/TAC/data/rgbd_data/pretrain_val/scannet_dynamic_train/*/*/*.png\"):\n",
    "    rgb_files.append(file)\n",
    "print(len(rgb_files))"
   ]
  },
  {
   "cell_type": "code",
   "execution_count": null,
   "metadata": {},
   "outputs": [],
   "source": [
    "rgb_files = []\n",
    "for file in glob.glob(\"/root/TAC/data/rgbd_data/pretrain_val/scannet_dynamic_val/*/*/*.png\"):\n",
    "    rgb_files.append(file)\n",
    "print(len(rgb_files))"
   ]
  },
  {
   "cell_type": "code",
   "execution_count": null,
   "metadata": {},
   "outputs": [],
   "source": [
    "\n",
    "\n",
    "# from skimage.metrics import structural_similarity\n",
    "# import skimage\n",
    "import cv2\n",
    "\n",
    "import os\n",
    "import glob\n",
    "import cv2\n",
    "import random\n",
    "import numpy as np\n",
    "import re\n",
    "from tqdm.notebook import tqdm\n",
    "#Works well with images of different dimensions\n",
    "def orb_sim(img1, img2):\n",
    "  # SIFT is no longer available in cv2 so using ORB\n",
    "  orb = cv2.ORB_create()\n",
    "\n",
    "  # detect keypoints and descriptors\n",
    "  kp_a, desc_a = orb.detectAndCompute(img1, None)\n",
    "  kp_b, desc_b = orb.detectAndCompute(img2, None)\n",
    "\n",
    "  # define the bruteforce matcher object\n",
    "  bf = cv2.BFMatcher(cv2.NORM_HAMMING, crossCheck=True)\n",
    "    \n",
    "  # invalid image\n",
    "  if desc_a is None or desc_b is None:\n",
    "    return None\n",
    "  matches = bf.match(desc_a, desc_b)\n",
    "  #Look for similar regions with distance < 50. Goes from 0 to 100 so pick a number between.\n",
    "  similar_regions = [i for i in matches if i.distance < 50]  \n",
    "  if len(matches) == 0:\n",
    "    return 0\n",
    "  return len(similar_regions) / len(matches)\n",
    "# time scale\n",
    "from tqdm.notebook import tqdm\n",
    "# def calculate_time_factor(folder, num, limit, threshold):\n",
    "#     all_episodes = list(glob.glob(os.path.join(folder,\"*\")))\n",
    "#     all_episodes = random.sample(all_episodes, num)\n",
    "#     factors = []\n",
    "#     for ep in tqdm(all_episodes):\n",
    "#         rgbs = list(glob.glob(os.path.join(ep,\"rgb\",\"*.jpg\")))\n",
    "#         rgbs = sorted(rgbs, key=lambda f: int(os.path.basename(f).split(\".\")[0]))\n",
    "#         times = [int(os.path.basename(v).split(\".\")[0]) for v in rgbs]\n",
    "#         if len(times)<limit:\n",
    "#             continue\n",
    "#         idx_pool = random.sample(list(range(len(times))), limit)\n",
    "#         for i in idx_pool:\n",
    "#             img1 = cv2.imread(rgbs[i])\n",
    "#             j = i+1\n",
    "#             orb_similarity = 1.0\n",
    "#             while j<len(times):\n",
    "#                 img2 = cv2.imread(rgbs[j])\n",
    "#                 orb_similarity = orb_sim(img1, img2)\n",
    "#                 if orb_similarity<threshold:\n",
    "#                     factors.append(times[j]-times[i])\n",
    "#                     break\n",
    "#                 j += 1\n",
    "#     return np.mean(factors)\n",
    "# FOLDER = \"/root/TAC/data/rgbd_data/pretrain_val/scannet_val\"\n",
    "# NUM = 10\n",
    "# LIMIT = 100\n",
    "# THRESHOLD = 0.2\n",
    "# res = calculate_time_factor(FOLDER, NUM, LIMIT, THRESHOLD)\n",
    "# print(\"Time factor of scannet is: \", res)"
   ]
  },
  {
   "cell_type": "code",
   "execution_count": null,
   "metadata": {},
   "outputs": [],
   "source": [
    "from glob import glob\n",
    "episodes = []\n",
    "for folder in glob(\"/root/TAC/data/rgbd_data/tumrgbd_clean_resize/train/*\"):\n",
    "    episodes.append(folder)\n",
    "def count_similarity(episodes, distance=1):\n",
    "    similarity = []\n",
    "    invalid_cnt = 0\n",
    "    nodesc_cnt = 0\n",
    "    for episode in tqdm(episodes):\n",
    "        rgb_folder = os.path.join(episode,\"rgb\")\n",
    "        rgb_files = natsort.natsorted(list(os.listdir(rgb_folder)))\n",
    "        shift_rgb_files = rgb_files[distance:]\n",
    "        rgb_files = rgb_files[:-distance]\n",
    "        for a,b in zip(rgb_files, shift_rgb_files):\n",
    "            ts_a = int(a.replace(\".png\",\"\"))\n",
    "            ts_b = int(b.replace(\".png\",\"\"))\n",
    "            if abs(ts_b-ts_a)<=33*2*distance: # avoid discontinuous timestamps\n",
    "                img1 = cv2.imread(os.path.join(rgb_folder, a))\n",
    "                img2 = cv2.imread(os.path.join(rgb_folder, b))\n",
    "                s = orb_sim(img1, img2)\n",
    "                if s is None: # ignore image that does not have ORB descriptors\n",
    "                    nodesc_cnt+=1\n",
    "                else:\n",
    "                    similarity.append(s)\n",
    "            else:\n",
    "                invalid_cnt += 1\n",
    "        print(rgb_folder, invalid_cnt, nodesc_cnt)\n",
    "    print(invalid_cnt/(invalid_cnt+len(similarity)), invalid_cnt)\n",
    "    print(nodesc_cnt)\n",
    "    return similarity\n",
    "res = count_similarity(episodes, 1)"
   ]
  },
  {
   "cell_type": "code",
   "execution_count": null,
   "metadata": {},
   "outputs": [],
   "source": [
    "res5 = count_similarity(episodes, 5)"
   ]
  },
  {
   "cell_type": "code",
   "execution_count": 122,
   "metadata": {},
   "outputs": [
    {
     "name": "stdout",
     "output_type": "stream",
     "text": [
      "0.0007280428883446953\n"
     ]
    }
   ],
   "source": [
    "res = np.array(res)\n",
    "print((res<0.5).sum()/len(res))"
   ]
  },
  {
   "cell_type": "code",
   "execution_count": 123,
   "metadata": {},
   "outputs": [
    {
     "name": "stdout",
     "output_type": "stream",
     "text": [
      "0.009606384085171563\n"
     ]
    }
   ],
   "source": [
    "res5 = np.array(res5)\n",
    "print((res5<0.5).sum()/len(res))"
   ]
  },
  {
   "cell_type": "code",
   "execution_count": 142,
   "metadata": {},
   "outputs": [
    {
     "data": {
      "image/png": "[encoded data removed]",
      "text/plain": [
       "<Figure size 1920x560 with 2 Axes>"
      ]
     },
     "metadata": {
      "needs_background": "light"
     },
     "output_type": "display_data"
    }
   ],
   "source": [
    "fig, axs = plt.subplots(1,2,figsize=(4.8*2,2.8),dpi=200)\n",
    "axs[0].hist(res,density=True)\n",
    "axs[0].set_xlabel(\"Similarity\")\n",
    "axs[0].set_ylabel(\"Density\")\n",
    "axs[0].set_title(\"1-frame distance\")\n",
    "axs[1].hist(res5,density=True)\n",
    "axs[1].set_xlabel(\"Similarity\")\n",
    "axs[1].set_title(\"5-frame distance\")\n",
    "plt.savefig(\"bad_positives.pdf\", bbox_inches=\"tight\", pad_inches=0)"
   ]
  },
  {
   "cell_type": "code",
   "execution_count": null,
   "metadata": {},
   "outputs": [],
   "source": [
    "plt.imshow(img2)"
   ]
  },
  {
   "cell_type": "code",
   "execution_count": 134,
   "metadata": {},
   "outputs": [
    {
     "data": {
      "text/plain": [
       "'3.7.2'"
      ]
     },
     "execution_count": 134,
     "metadata": {},
     "output_type": "execute_result"
    }
   ],
   "source": [
    "import matplotlib\n",
    "matplotlib.__version__"
   ]
  },
  {
   "cell_type": "code",
   "execution_count": null,
   "metadata": {},
   "outputs": [],
   "source": []
  }
 ],
 "metadata": {
  "kernelspec": {
   "display_name": "base",
   "language": "python",
   "name": "python3"
  },
  "language_info": {
   "codemirror_mode": {
    "name": "ipython",
    "version": 3
   },
   "file_extension": ".py",
   "mimetype": "text/x-python",
   "name": "python",
   "nbconvert_exporter": "python",
   "pygments_lexer": "ipython3",
   "version": "3.9.16"
  },
  "orig_nbformat": 4
 },
 "nbformat": 4,
 "nbformat_minor": 2
}
